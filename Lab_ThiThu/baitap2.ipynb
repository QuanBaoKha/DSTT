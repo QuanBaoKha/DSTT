{
 "cells": [
  {
   "cell_type": "code",
   "execution_count": 3,
   "metadata": {},
   "outputs": [
    {
     "data": {
      "text/plain": [
       "(array([[ 32,  38,  44,  50],\n",
       "        [ 80,  96, 112, 128],\n",
       "        [128, 154, 180, 206],\n",
       "        [ 12,  14,  16,  18]]),\n",
       " 6.66133814775094e-16,\n",
       " 2)"
      ]
     },
     "execution_count": 3,
     "metadata": {},
     "output_type": "execute_result"
    }
   ],
   "source": [
    "import numpy as np\n",
    "# Khai báo ma trận\n",
    "M = np.array([[1, 2, 3, 0],\n",
    "              [4, 5, 6, 1],\n",
    "              [7, 8, 9, 2],\n",
    "              [0, 1, 1, 0]])\n",
    "\n",
    "N = np.array([[0, 1, 2, 3],\n",
    "              [4, 5, 6, 7],\n",
    "              [8, 9, 10, 11],\n",
    "              [12, 13, 14, 15]])\n",
    "\n",
    "# a) Tính tích ma trận M × N. (8 điểm)\n",
    "MN = M @ N\n",
    "\n",
    "# b) Tính định thức của ma trận M. Nếu không khả thi, giải thích lý do. (6 điểm)\n",
    "det_M = np.linalg.det(M)\n",
    "\n",
    "# c) Tính hạng của ma trận N. (6 điểm)\n",
    "rank_N = np.linalg.matrix_rank(N)\n",
    "\n",
    "MN, det_M, rank_N"
   ]
  }
 ],
 "metadata": {
  "kernelspec": {
   "display_name": "Python 3",
   "language": "python",
   "name": "python3"
  },
  "language_info": {
   "codemirror_mode": {
    "name": "ipython",
    "version": 3
   },
   "file_extension": ".py",
   "mimetype": "text/x-python",
   "name": "python",
   "nbconvert_exporter": "python",
   "pygments_lexer": "ipython3",
   "version": "3.11.0"
  },
  "orig_nbformat": 4,
  "vscode": {
   "interpreter": {
    "hash": "c261aea317cc0286b3b3261fbba9abdec21eaa57589985bb7a274bf54d6cc0a7"
   }
  }
 },
 "nbformat": 4,
 "nbformat_minor": 2
}
