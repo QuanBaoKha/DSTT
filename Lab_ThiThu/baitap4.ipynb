{
 "cells": [
  {
   "cell_type": "code",
   "execution_count": 2,
   "metadata": {},
   "outputs": [
    {
     "data": {
      "text/plain": [
       "(array([3.45339765+0.j        , 2.77330117+1.46771151j,\n",
       "        2.77330117-1.46771151j]),\n",
       " array([[ 0.83327121+0.j        , -0.26206044-0.31354813j,\n",
       "         -0.26206044+0.31354813j],\n",
       "        [ 0.455468  +0.j        , -0.78166743+0.j        ,\n",
       "         -0.78166743-0.j        ],\n",
       "        [ 0.31338154+0.j        , -0.21963176+0.41685708j,\n",
       "         -0.21963176-0.41685708j]]),\n",
       " array([[ 0.83327121+0.j        , -0.26206044-0.31354813j,\n",
       "         -0.26206044+0.31354813j],\n",
       "        [ 0.455468  +0.j        , -0.78166743+0.j        ,\n",
       "         -0.78166743+0.j        ],\n",
       "        [ 0.31338154+0.j        , -0.21963176+0.41685708j,\n",
       "         -0.21963176-0.41685708j]]))"
      ]
     },
     "execution_count": 2,
     "metadata": {},
     "output_type": "execute_result"
    }
   ],
   "source": [
    "import numpy as np\n",
    "Q = np.array([[4, -1, 0],\n",
    "              [1, 3, -2],\n",
    "              [0, 1, 2]])\n",
    "\n",
    "eig_vals, eig_vecs = np.linalg.eig(Q)\n",
    "\n",
    "# Chuẩn hóa các vector riêng\n",
    "eig_vecs_norm = eig_vecs / np.linalg.norm(eig_vecs, axis=0)\n",
    "\n",
    "eig_vals, eig_vecs, eig_vecs_norm"
   ]
  }
 ],
 "metadata": {
  "kernelspec": {
   "display_name": "Python 3",
   "language": "python",
   "name": "python3"
  },
  "language_info": {
   "codemirror_mode": {
    "name": "ipython",
    "version": 3
   },
   "file_extension": ".py",
   "mimetype": "text/x-python",
   "name": "python",
   "nbconvert_exporter": "python",
   "pygments_lexer": "ipython3",
   "version": "3.11.0"
  },
  "orig_nbformat": 4,
  "vscode": {
   "interpreter": {
    "hash": "c261aea317cc0286b3b3261fbba9abdec21eaa57589985bb7a274bf54d6cc0a7"
   }
  }
 },
 "nbformat": 4,
 "nbformat_minor": 2
}
