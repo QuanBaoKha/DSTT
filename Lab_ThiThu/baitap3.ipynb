{
 "cells": [
  {
   "cell_type": "code",
   "execution_count": 2,
   "metadata": {},
   "outputs": [
    {
     "data": {
      "text/plain": [
       "(True,\n",
       " array([[ 0.48837209, -0.09302326,  0.02325581, -0.20930233],\n",
       "        [ 0.03488372,  0.27906977, -0.06976744,  0.12790698],\n",
       "        [-0.11627907,  0.06976744,  0.23255814, -0.09302326],\n",
       "        [-0.01162791, -0.09302326,  0.02325581,  0.29069767]]),\n",
       " array([0.46511628, 2.10465116, 1.65116279, 0.96511628]),\n",
       " array([4., 7., 9., 5.]))"
      ]
     },
     "execution_count": 2,
     "metadata": {},
     "output_type": "execute_result"
    }
   ],
   "source": [
    "import numpy as np\n",
    "P = np.array([[2, 1, 0, 1],\n",
    "              [0, 3, 1, -1],\n",
    "              [1, 0, 4, 2],\n",
    "              [0, 1, 0, 3]])\n",
    "\n",
    "b = np.array([4, 7, 9, 5])\n",
    "\n",
    "# a) a) Tìm ma trận nghịch đảo của P. Nếu không khả nghịch, giải thích lý do. (10 điểm)\n",
    "try:\n",
    "    P_inv = np.linalg.inv(P)\n",
    "    kha_nghich = True\n",
    "except np.linalg.LinAlgError:\n",
    "    kha_nghich = False\n",
    "    P_inv = None\n",
    "\n",
    "# b) Giải hệ phương trình trên bằng cách sử dụng nghịch đảo ma trận. (10 điểm)\n",
    "if kha_nghich:\n",
    "    x = P_inv @ b\n",
    "\n",
    "#  c) Kiểm tra nghiệm bằng cách nhân ma trận P với vector nghiệm và so sánh với vector hằng số. (5 điểm)\n",
    "kiem_tra = P @ x if kha_nghich else None\n",
    "\n",
    "kha_nghich, P_inv, x, kiem_tra"
   ]
  }
 ],
 "metadata": {
  "kernelspec": {
   "display_name": "Python 3",
   "language": "python",
   "name": "python3"
  },
  "language_info": {
   "codemirror_mode": {
    "name": "ipython",
    "version": 3
   },
   "file_extension": ".py",
   "mimetype": "text/x-python",
   "name": "python",
   "nbconvert_exporter": "python",
   "pygments_lexer": "ipython3",
   "version": "3.11.0"
  },
  "orig_nbformat": 4,
  "vscode": {
   "interpreter": {
    "hash": "c261aea317cc0286b3b3261fbba9abdec21eaa57589985bb7a274bf54d6cc0a7"
   }
  }
 },
 "nbformat": 4,
 "nbformat_minor": 2
}
