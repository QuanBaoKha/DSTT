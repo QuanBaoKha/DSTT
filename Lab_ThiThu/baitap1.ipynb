{
 "cells": [
  {
   "cell_type": "code",
   "execution_count": 3,
   "metadata": {},
   "outputs": [
    {
     "data": {
      "text/plain": [
       "(array([3, 3, 1, 5]),\n",
       " array([  4, -11,  13, -10]),\n",
       " -8,\n",
       " 108.376,\n",
       " array([[ 5,  0, -1],\n",
       "        [ 0, 14, 10],\n",
       "        [-1, 10, 17]]))"
      ]
     },
     "execution_count": 3,
     "metadata": {},
     "output_type": "execute_result"
    }
   ],
   "source": [
    "\n",
    "import numpy as np\n",
    "# Khai báo vector và ma trận\n",
    "A = np.array([2, -1, 3, 0])\n",
    "B = np.array([1, 4, -2, 5])\n",
    "C = np.array([[1, 2, -1],\n",
    "              [0, 3, 4],\n",
    "              [2, -1, 0]])\n",
    "\n",
    "# a) Phép toán cơ bản trên vector và ma trận (15 điểm)\n",
    "tong = A + B\n",
    "tich_so = 3 * A - 2 * B\n",
    "\n",
    "# b) Tính tích vô hướng A · B và góc giữa hai vector (tính bằng độ, làm tròn đến 3 chữ số thập phân). (5 điểm)\n",
    "dot_product = np.dot(A, B)\n",
    "cos_theta = dot_product / (np.linalg.norm(A) * np.linalg.norm(B))\n",
    "goc_do = np.degrees(np.arccos(cos_theta))\n",
    "\n",
    "# c) Tính tích ma trận CTC (chuyển vị của C nhân với C). (5 điểm)\n",
    "CTC = np.dot(C.T, C)\n",
    "\n",
    "tong, tich_so, dot_product, round(goc_do, 3), CTC"
   ]
  }
 ],
 "metadata": {
  "kernelspec": {
   "display_name": "Python 3",
   "language": "python",
   "name": "python3"
  },
  "language_info": {
   "codemirror_mode": {
    "name": "ipython",
    "version": 3
   },
   "file_extension": ".py",
   "mimetype": "text/x-python",
   "name": "python",
   "nbconvert_exporter": "python",
   "pygments_lexer": "ipython3",
   "version": "3.11.0"
  },
  "orig_nbformat": 4,
  "vscode": {
   "interpreter": {
    "hash": "c261aea317cc0286b3b3261fbba9abdec21eaa57589985bb7a274bf54d6cc0a7"
   }
  }
 },
 "nbformat": 4,
 "nbformat_minor": 2
}
