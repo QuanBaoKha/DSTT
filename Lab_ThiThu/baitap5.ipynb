{
 "cells": [
  {
   "cell_type": "code",
   "execution_count": 2,
   "metadata": {},
   "outputs": [
    {
     "data": {
      "text/plain": [
       "(array([2.7826087 , 0.04347826, 2.43478261]),\n",
       " True,\n",
       " array([[-0.04347826,  0.47826087, -0.08695652],\n",
       "        [-0.39130435,  0.30434783,  0.2173913 ],\n",
       "        [ 0.08695652,  0.04347826,  0.17391304]]),\n",
       " array([2.7826087 , 0.04347826, 2.43478261]),\n",
       " 6.082762530298219)"
      ]
     },
     "execution_count": 2,
     "metadata": {},
     "output_type": "execute_result"
    }
   ],
   "source": [
    "import numpy as np\n",
    "R = np.array([[1, -2, 3],\n",
    "              [2, 0, 1],\n",
    "              [-1, 1, 4]])\n",
    "b = np.array([10, 8, 7])\n",
    "\n",
    "# a) Giải hệ phương trình Rx = b bằng phương pháp np.linalg.solve(). (8 điểm)\n",
    "x1 = np.linalg.solve(R, b)\n",
    "\n",
    "# b) Xác định xem ma trận R có khả nghịch không. Nếu có, tính ma trận nghịch đảo và dùng nó để giải lại hệ. So sánh hai nghiệm. (7 điểm)\n",
    "try:\n",
    "    R_inv = np.linalg.inv(R)\n",
    "    x2 = R_inv @ b\n",
    "    kha_nghich = True\n",
    "except np.linalg.LinAlgError:\n",
    "    x2 = None\n",
    "    R_inv = None\n",
    "    kha_nghich = False\n",
    "\n",
    "# c) Tính chuẩn Frobenius của ma trận R. (5 điểm)\n",
    "fro_norm = np.linalg.norm(R, 'fro')\n",
    "\n",
    "x1, kha_nghich, R_inv, x2, fro_norm"
   ]
  }
 ],
 "metadata": {
  "kernelspec": {
   "display_name": "Python 3",
   "language": "python",
   "name": "python3"
  },
  "language_info": {
   "codemirror_mode": {
    "name": "ipython",
    "version": 3
   },
   "file_extension": ".py",
   "mimetype": "text/x-python",
   "name": "python",
   "nbconvert_exporter": "python",
   "pygments_lexer": "ipython3",
   "version": "3.11.0"
  },
  "orig_nbformat": 4,
  "vscode": {
   "interpreter": {
    "hash": "c261aea317cc0286b3b3261fbba9abdec21eaa57589985bb7a274bf54d6cc0a7"
   }
  }
 },
 "nbformat": 4,
 "nbformat_minor": 2
}
