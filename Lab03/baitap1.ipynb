{
 "cells": [
  {
   "cell_type": "code",
   "execution_count": null,
   "id": "81bc27a1",
   "metadata": {},
   "outputs": [],
   "source": [
    "# Cau a:\n",
    "import numpy as np\n",
    "\n",
    "A = np.array([[2, 1, 3],\n",
    "              [1, 1, 1],\n",
    "              [1, 0, 2]])\n",
    "\n",
    "print(\"Ma trận A:\\n\", A)\n",
    "\n",
    "# Tính định thức để kiểm tra khả nghịch\n",
    "det_A = np.linalg.det(A)\n",
    "print(\"\\nĐịnh thức của A là:\", det_A)\n",
    "\n",
    "if det_A != 0:\n",
    "    print(\"Ma trận A khả nghịch.\")\n",
    "    A_inv = np.linalg.inv(A)\n",
    "    print(\"\\nMa trận nghịch đảo A^-1:\\n\", A_inv)\n",
    "else:\n",
    "    print(\"Ma trận A không khả nghịch.\")\n",
    "\n",
    "\n",
    "# Cau b:\n",
    "# Nhập dữ liệu từ người dùng\n",
    "data = input(\"Nhập họ tên hoặc mã số sinh viên: \")\n",
    "print(\"Dữ liệu nhập vào:\", data)\n",
    "\n",
    "\n",
    "# Cau c:\n",
    "# Chuyển dữ liệu thành vector số (mã ASCII)\n",
    "vector = np.array([ord(c) for c in data[:3]])  # Lấy 3 ký tự đầu để tạo vector 3 pt\n",
    "print(\"\\nVector dữ liệu:\", vector)\n",
    "\n",
    "# Mã hóa: nhân ma trận A với vector\n",
    "encoded = A.dot(vector)\n",
    "print(\"\\nDữ liệu mã hóa (vector):\", encoded)\n",
    "\n",
    "\n",
    "# Cau d:\n",
    "# Giải mã\n",
    "decoded = A_inv.dot(encoded)\n",
    "print(\"\\nDữ liệu giải mã (vector số thực):\", decoded)\n",
    "\n",
    "# Làm tròn và chuyển lại thành ký tự\n",
    "decoded_chars = ''.join([chr(int(round(x))) for x in decoded])\n",
    "print(\"Dữ liệu giải mã (chữ):\", decoded_chars)\n"
   ]
  }
 ],
 "metadata": {
  "kernelspec": {
   "display_name": "Python 3",
   "language": "python",
   "name": "python3"
  },
  "language_info": {
   "codemirror_mode": {
    "name": "ipython",
    "version": 3
   },
   "file_extension": ".py",
   "mimetype": "text/x-python",
   "name": "python",
   "nbconvert_exporter": "python",
   "pygments_lexer": "ipython3",
   "version": "3.11.9"
  }
 },
 "nbformat": 4,
 "nbformat_minor": 5
}
