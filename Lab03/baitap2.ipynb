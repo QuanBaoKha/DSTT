{
 "cells": [
  {
   "cell_type": "code",
   "execution_count": 1,
   "id": "ea7dbe9a",
   "metadata": {},
   "outputs": [
    {
     "name": "stdout",
     "output_type": "stream",
     "text": [
      "Phân số từ liên phân số [2, 1, 3] là: 11/3\n"
     ]
    }
   ],
   "source": [
    "# Cau a:\n",
    "def continued_fraction_to_fraction(cf):\n",
    "    \"\"\"\n",
    "    cf: list các số nguyên [a0, a1, ..., an]\n",
    "    Trả về phân số dưới dạng tuple (tử số, mẫu số)\n",
    "    \"\"\"\n",
    "    n = len(cf)\n",
    "    p0, p1 = 1, cf[-1]\n",
    "    q0, q1 = 0, 1\n",
    "\n",
    "    for i in range(n - 2, -1, -1):\n",
    "        a = cf[i]\n",
    "        p0, p1 = p1, a * p1 + p0\n",
    "        q0, q1 = q1, a * q1 + q0\n",
    "\n",
    "    return (p1, q1)\n",
    "\n",
    "# Ví dụ với phân số 8/3 có liên phân số [2,1,3] (theo ví dụ của bạn)\n",
    "cf_example = [2, 1, 3]\n",
    "num, den = continued_fraction_to_fraction(cf_example)\n",
    "print(f\"Phân số từ liên phân số {cf_example} là: {num}/{den}\")\n"
   ]
  },
  {
   "cell_type": "code",
   "execution_count": null,
   "id": "4957fbd0",
   "metadata": {},
   "outputs": [],
   "source": [
    "# Cau b:\n",
    "# Pk,qk thỏa mãn:\n",
    "#     pk = akpk-1 + pl-2\n",
    "#     qk = akqk-1 + qk-2\n",
    "# đk ban đầu:\n",
    "#     p-1 = 1\n",
    "#     p-2 = 0\n",
    "#     q-1 = 0\n",
    "#     q-2 = 1"
   ]
  }
 ],
 "metadata": {
  "kernelspec": {
   "display_name": "Python 3",
   "language": "python",
   "name": "python3"
  },
  "language_info": {
   "codemirror_mode": {
    "name": "ipython",
    "version": 3
   },
   "file_extension": ".py",
   "mimetype": "text/x-python",
   "name": "python",
   "nbconvert_exporter": "python",
   "pygments_lexer": "ipython3",
   "version": "3.11.9"
  }
 },
 "nbformat": 4,
 "nbformat_minor": 5
}
