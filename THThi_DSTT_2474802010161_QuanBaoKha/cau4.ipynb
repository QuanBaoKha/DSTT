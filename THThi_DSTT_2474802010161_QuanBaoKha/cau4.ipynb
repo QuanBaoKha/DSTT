{
 "cells": [
  {
   "cell_type": "code",
   "execution_count": 2,
   "metadata": {},
   "outputs": [
    {
     "data": {
      "text/plain": [
       "array([6.3553014+0.j        , 2.8223493+1.07730381j,\n",
       "       2.8223493-1.07730381j])"
      ]
     },
     "execution_count": 2,
     "metadata": {},
     "output_type": "execute_result"
    }
   ],
   "source": [
    "# cauA\n",
    "import numpy as np\n",
    "Q = np.array([\n",
    "    [5, -2, 1],\n",
    "    [0, 3, -1],\n",
    "    [2, 0, 4]\n",
    "])\n",
    "\n",
    "eigenvalues, eigenvectors = np.linalg.eig(Q)\n",
    "eigenvalues\n"
   ]
  },
  {
   "cell_type": "code",
   "execution_count": 10,
   "metadata": {},
   "outputs": [
    {
     "data": {
      "text/plain": [
       "array([[ 0.74846013+0.j        , -0.37423006+0.34234215j,\n",
       "        -0.37423006-0.34234215j],\n",
       "       [-0.18941773+0.j        ,  0.09470887+0.57433055j,\n",
       "         0.09470887-0.57433055j],\n",
       "       [ 0.63555359+0.j        ,  0.63555359+0.j        ,\n",
       "         0.63555359-0.j        ]])"
      ]
     },
     "execution_count": 10,
     "metadata": {},
     "output_type": "execute_result"
    }
   ],
   "source": [
    "# cauB\n",
    "eigenvectors\n"
   ]
  },
  {
   "cell_type": "code",
   "execution_count": 11,
   "metadata": {},
   "outputs": [
    {
     "data": {
      "text/plain": [
       "array([[ 0.74846013+0.j        , -0.37423006+0.34234215j,\n",
       "        -0.37423006-0.34234215j],\n",
       "       [-0.18941773+0.j        ,  0.09470887+0.57433055j,\n",
       "         0.09470887-0.57433055j],\n",
       "       [ 0.63555359+0.j        ,  0.63555359+0.j        ,\n",
       "         0.63555359-0.j        ]])"
      ]
     },
     "execution_count": 11,
     "metadata": {},
     "output_type": "execute_result"
    }
   ],
   "source": [
    "# cauC\n",
    "normalized_vectors = eigenvectors / np.linalg.norm(eigenvectors, axis=0)\n",
    "normalized_vectors\n"
   ]
  }
 ],
 "metadata": {
  "kernelspec": {
   "display_name": "Python 3",
   "language": "python",
   "name": "python3"
  },
  "language_info": {
   "codemirror_mode": {
    "name": "ipython",
    "version": 3
   },
   "file_extension": ".py",
   "mimetype": "text/x-python",
   "name": "python",
   "nbconvert_exporter": "python",
   "pygments_lexer": "ipython3",
   "version": "3.11.0"
  },
  "orig_nbformat": 4,
  "vscode": {
   "interpreter": {
    "hash": "c261aea317cc0286b3b3261fbba9abdec21eaa57589985bb7a274bf54d6cc0a7"
   }
  }
 },
 "nbformat": 4,
 "nbformat_minor": 2
}
