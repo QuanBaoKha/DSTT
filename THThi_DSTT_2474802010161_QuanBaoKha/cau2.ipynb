{
 "cells": [
  {
   "cell_type": "code",
   "execution_count": 3,
   "metadata": {},
   "outputs": [
    {
     "data": {
      "text/plain": [
       "array([[ -2,  13,   0,  -5],\n",
       "       [  2,   0,  12,  30],\n",
       "       [ 17,   7,  28, -14],\n",
       "       [-13,   3,   5,  15]])"
      ]
     },
     "execution_count": 3,
     "metadata": {},
     "output_type": "execute_result"
    }
   ],
   "source": [
    "# cauA\n",
    "import numpy as np\n",
    "M = np.array([\n",
    "    [2, -1, 3, 0],\n",
    "    [1, 4, -2, 5],\n",
    "    [0, 2, 6, -3],\n",
    "    [-1, 0, 1, 4]\n",
    "])\n",
    "\n",
    "N = np.array([\n",
    "    [1, 3, -2, 0],\n",
    "    [4, -1, 5, 2],\n",
    "    [0, 2, 3, -1],\n",
    "    [-3, 1, 0, 4]\n",
    "])\n",
    "\n",
    "MN = np.dot(M, N)\n",
    "MN\n"
   ]
  },
  {
   "cell_type": "code",
   "execution_count": 7,
   "metadata": {},
   "outputs": [
    {
     "data": {
      "text/plain": [
       "409.00000000000017"
      ]
     },
     "execution_count": 7,
     "metadata": {},
     "output_type": "execute_result"
    }
   ],
   "source": [
    "# cauB\n",
    "\n",
    "try:\n",
    "    det_M = np.linalg.det(M)\n",
    "except np.linalg.LinAlgError:\n",
    "    det_M = \"Không khả thi\"\n",
    "\n",
    "det_M\n"
   ]
  },
  {
   "cell_type": "code",
   "execution_count": 6,
   "metadata": {},
   "outputs": [
    {
     "data": {
      "text/plain": [
       "4"
      ]
     },
     "execution_count": 6,
     "metadata": {},
     "output_type": "execute_result"
    }
   ],
   "source": [
    "# cauC\n",
    "\n",
    "rank_N = np.linalg.matrix_rank(N)\n",
    "rank_N\n"
   ]
  }
 ],
 "metadata": {
  "kernelspec": {
   "display_name": "Python 3",
   "language": "python",
   "name": "python3"
  },
  "language_info": {
   "codemirror_mode": {
    "name": "ipython",
    "version": 3
   },
   "file_extension": ".py",
   "mimetype": "text/x-python",
   "name": "python",
   "nbconvert_exporter": "python",
   "pygments_lexer": "ipython3",
   "version": "3.11.0"
  },
  "orig_nbformat": 4,
  "vscode": {
   "interpreter": {
    "hash": "c261aea317cc0286b3b3261fbba9abdec21eaa57589985bb7a274bf54d6cc0a7"
   }
  }
 },
 "nbformat": 4,
 "nbformat_minor": 2
}
