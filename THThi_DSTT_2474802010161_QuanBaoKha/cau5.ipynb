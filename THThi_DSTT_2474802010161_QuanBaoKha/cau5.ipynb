{
 "cells": [
  {
   "cell_type": "code",
   "execution_count": 2,
   "metadata": {},
   "outputs": [
    {
     "data": {
      "text/plain": [
       "array([2.78823529, 1.52941176, 1.18823529])"
      ]
     },
     "execution_count": 2,
     "metadata": {},
     "output_type": "execute_result"
    }
   ],
   "source": [
    "# cauA\n",
    "import numpy as np\n",
    "R = np.array([\n",
    "    [4, -1, 2],\n",
    "    [1, 3, -2],\n",
    "    [0, 2, 5]\n",
    "])\n",
    "b = np.array([12, 5, 9])\n",
    "\n",
    "x1 = np.linalg.solve(R, b)\n",
    "x1\n"
   ]
  },
  {
   "cell_type": "code",
   "execution_count": 3,
   "metadata": {},
   "outputs": [
    {
     "data": {
      "text/plain": [
       "(array([[ 0.22352941,  0.10588235, -0.04705882],\n",
       "        [-0.05882353,  0.23529412,  0.11764706],\n",
       "        [ 0.02352941, -0.09411765,  0.15294118]]),\n",
       " array([2.78823529, 1.52941176, 1.18823529]))"
      ]
     },
     "execution_count": 3,
     "metadata": {},
     "output_type": "execute_result"
    }
   ],
   "source": [
    "# cauB\n",
    "try:\n",
    "    R_inv = np.linalg.inv(R)\n",
    "    x2 = np.dot(R_inv, b)\n",
    "except np.linalg.LinAlgError:\n",
    "    R_inv = \"Không khả nghịch\"\n",
    "    x2 = \"Không tính được\"\n",
    "\n",
    "R_inv, x2\n"
   ]
  },
  {
   "cell_type": "code",
   "execution_count": 4,
   "metadata": {},
   "outputs": [
    {
     "data": {
      "text/plain": [
       "8.0"
      ]
     },
     "execution_count": 4,
     "metadata": {},
     "output_type": "execute_result"
    }
   ],
   "source": [
    "# cauC\n",
    "fro_norm = np.linalg.norm(R, 'fro')\n",
    "fro_norm\n"
   ]
  }
 ],
 "metadata": {
  "kernelspec": {
   "display_name": "Python 3",
   "language": "python",
   "name": "python3"
  },
  "language_info": {
   "codemirror_mode": {
    "name": "ipython",
    "version": 3
   },
   "file_extension": ".py",
   "mimetype": "text/x-python",
   "name": "python",
   "nbconvert_exporter": "python",
   "pygments_lexer": "ipython3",
   "version": "3.11.0"
  },
  "orig_nbformat": 4,
  "vscode": {
   "interpreter": {
    "hash": "c261aea317cc0286b3b3261fbba9abdec21eaa57589985bb7a274bf54d6cc0a7"
   }
  }
 },
 "nbformat": 4,
 "nbformat_minor": 2
}
