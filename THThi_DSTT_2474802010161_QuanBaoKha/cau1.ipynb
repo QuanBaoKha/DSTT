{
 "cells": [
  {
   "cell_type": "code",
   "execution_count": 1,
   "metadata": {},
   "outputs": [
    {
     "data": {
      "text/plain": [
       "(array([2, 3, 1, 6]), array([ 3, 11,  2, 14]))"
      ]
     },
     "execution_count": 1,
     "metadata": {},
     "output_type": "execute_result"
    }
   ],
   "source": [
    "# cauA\n",
    "import numpy as np\n",
    "\n",
    "A = np.array([3, -2, 1, 4])\n",
    "B = np.array([-1, 5, 0, 2])\n",
    "\n",
    "tong = A + B\n",
    "tich_so = 2*A + 3*B\n",
    "\n",
    "tong, tich_so\n"
   ]
  },
  {
   "cell_type": "code",
   "execution_count": 4,
   "metadata": {},
   "outputs": [
    {
     "data": {
      "text/plain": [
       "(-5, 99.594)"
      ]
     },
     "execution_count": 4,
     "metadata": {},
     "output_type": "execute_result"
    }
   ],
   "source": [
    "# cauB\n",
    "\n",
    "dot_product = np.dot(A, B)\n",
    "norm_A = np.linalg.norm(A)\n",
    "norm_B = np.linalg.norm(B)\n",
    "\n",
    "cos_theta = dot_product / (norm_A * norm_B)\n",
    "goc_do = np.degrees(np.arccos(cos_theta))\n",
    "\n",
    "dot_product, round(goc_do, 3)\n"
   ]
  },
  {
   "cell_type": "code",
   "execution_count": 5,
   "metadata": {},
   "outputs": [
    {
     "data": {
      "text/plain": [
       "array([[14, -8, 13],\n",
       "       [-8, 21, -2],\n",
       "       [13, -2, 29]])"
      ]
     },
     "execution_count": 5,
     "metadata": {},
     "output_type": "execute_result"
    }
   ],
   "source": [
    "# cauC\n",
    "\n",
    "C = np.array([\n",
    "    [2, -1, 3],\n",
    "    [1, 4, -2],\n",
    "    [0, 2, 5]\n",
    "])\n",
    "\n",
    "CCT = np.dot(C, C.T)\n",
    "CCT\n"
   ]
  }
 ],
 "metadata": {
  "kernelspec": {
   "display_name": "Python 3",
   "language": "python",
   "name": "python3"
  },
  "language_info": {
   "codemirror_mode": {
    "name": "ipython",
    "version": 3
   },
   "file_extension": ".py",
   "mimetype": "text/x-python",
   "name": "python",
   "nbconvert_exporter": "python",
   "pygments_lexer": "ipython3",
   "version": "3.11.0"
  },
  "orig_nbformat": 4,
  "vscode": {
   "interpreter": {
    "hash": "c261aea317cc0286b3b3261fbba9abdec21eaa57589985bb7a274bf54d6cc0a7"
   }
  }
 },
 "nbformat": 4,
 "nbformat_minor": 2
}
