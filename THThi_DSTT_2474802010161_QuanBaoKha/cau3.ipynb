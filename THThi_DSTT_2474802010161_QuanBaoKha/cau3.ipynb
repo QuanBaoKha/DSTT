{
 "cells": [
  {
   "cell_type": "code",
   "execution_count": 2,
   "metadata": {},
   "outputs": [
    {
     "data": {
      "text/plain": [
       "array([[ 0.5       ,  0.1       ,  0.1       , -0.3       ],\n",
       "       [-0.14285714,  0.2       ,  0.05714286,  0.11428571],\n",
       "       [-0.03571429, -0.05      ,  0.16428571,  0.07857143],\n",
       "       [-0.32142857, -0.05      , -0.12142857,  0.50714286]])"
      ]
     },
     "execution_count": 2,
     "metadata": {},
     "output_type": "execute_result"
    }
   ],
   "source": [
    "# cauA\n",
    "import numpy as np\n",
    "P = np.array([\n",
    "    [3, -1, 0, 2],\n",
    "    [1, 4, -2, 0],\n",
    "    [0, 1, 5, -1],\n",
    "    [2, 0, 1, 3]\n",
    "])\n",
    "\n",
    "try:\n",
    "    P_inv = np.linalg.inv(P)\n",
    "except np.linalg.LinAlgError:\n",
    "    P_inv = \"Không khả nghịch\"\n",
    "\n",
    "P_inv\n"
   ]
  },
  {
   "cell_type": "code",
   "execution_count": 6,
   "metadata": {},
   "outputs": [
    {
     "data": {
      "text/plain": [
       "array([2.        , 1.71428571, 0.42857143, 0.85714286])"
      ]
     },
     "execution_count": 6,
     "metadata": {},
     "output_type": "execute_result"
    }
   ],
   "source": [
    "# cauB\n",
    "\n",
    "b = np.array([6, 8, 3, 7])\n",
    "x = np.dot(P_inv, b)\n",
    "x\n"
   ]
  },
  {
   "cell_type": "code",
   "execution_count": 9,
   "metadata": {},
   "outputs": [
    {
     "data": {
      "text/plain": [
       "array([6., 8., 3., 7.])"
      ]
     },
     "execution_count": 9,
     "metadata": {},
     "output_type": "execute_result"
    }
   ],
   "source": [
    "# cauC\n",
    "\n",
    "check = np.dot(P, x)\n",
    "check\n"
   ]
  }
 ],
 "metadata": {
  "kernelspec": {
   "display_name": "Python 3",
   "language": "python",
   "name": "python3"
  },
  "language_info": {
   "codemirror_mode": {
    "name": "ipython",
    "version": 3
   },
   "file_extension": ".py",
   "mimetype": "text/x-python",
   "name": "python",
   "nbconvert_exporter": "python",
   "pygments_lexer": "ipython3",
   "version": "3.11.0"
  },
  "orig_nbformat": 4,
  "vscode": {
   "interpreter": {
    "hash": "c261aea317cc0286b3b3261fbba9abdec21eaa57589985bb7a274bf54d6cc0a7"
   }
  }
 },
 "nbformat": 4,
 "nbformat_minor": 2
}
